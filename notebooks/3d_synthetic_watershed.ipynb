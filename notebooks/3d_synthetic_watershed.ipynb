{
 "cells": [
  {
   "cell_type": "code",
   "execution_count": null,
   "metadata": {
    "tags": []
   },
   "outputs": [],
   "source": [
    "import numpy as np\n",
    "import matplotlib.pyplot as plt\n",
    "from scipy import ndimage as ndi\n",
    "import open3d as o3d\n",
    "import PIL\n",
    "from PIL import ImageFilter\n",
    "import cv2\n",
    "import h5py\n",
    "\n",
    "from skimage.segmentation import watershed\n",
    "from skimage.feature import peak_local_max\n",
    "import skimage.filters as skfilters\n",
    "\n",
    "import perlin_numpy as perlin\n",
    "import neuroglancer\n",
    "\n",
    "import os \n",
    "import sys\n",
    "import itertools\n",
    "import importlib\n",
    "lib_dir = os.path.dirname(os.path.realpath('.'))\n",
    "print(lib_dir)\n",
    "if lib_dir not in sys.path:\n",
    "  sys.path.append(lib_dir)"
   ]
  },
  {
   "cell_type": "code",
   "execution_count": null,
   "metadata": {
    "tags": []
   },
   "outputs": [],
   "source": [
    "def reload():\n",
    "    import image_synthesis.utils as utils\n",
    "    import image_synthesis.point_generation as pg\n",
    "    importlib.reload(utils)\n",
    "    importlib.reload(pg)"
   ]
  },
  {
   "cell_type": "code",
   "execution_count": null,
   "metadata": {
    "tags": []
   },
   "outputs": [],
   "source": [
    "import image_synthesis.utils as utils\n",
    "import image_synthesis.point_generation as pg\n",
    "importlib.reload(utils)\n",
    "importlib.reload(pg)"
   ]
  },
  {
   "cell_type": "code",
   "execution_count": null,
   "metadata": {
    "tags": []
   },
   "outputs": [],
   "source": [
    "def remove_keymap_conflicts(new_keys_set):\n",
    "    for prop in plt.rcParams:\n",
    "        if prop.startswith('keymap.'):\n",
    "            keys = plt.rcParams[prop]\n",
    "            remove_list = set(keys) & new_keys_set\n",
    "            for key in remove_list:\n",
    "                keys.remove(key)\n",
    "remove_keymap_conflicts({'j', 'k'})"
   ]
  },
  {
   "cell_type": "markdown",
   "metadata": {},
   "source": [
    "# Watershed for 2d data"
   ]
  },
  {
   "cell_type": "code",
   "execution_count": null,
   "metadata": {
    "tags": []
   },
   "outputs": [],
   "source": [
    "reload()\n",
    "limits = (200, 200, 100)\n",
    "radius_limit = 20\n",
    "x, y = np.indices((limits[0], limits[1]))\n",
    "point_count = None\n",
    "noise_resolution = np.array([0.25, 0.25, 0.25]) # factor for multiplying the limit to get the resolution\n",
    "assert (limits % (limits * noise_resolution).astype(int) == 0).all()\n",
    "noise_intensity = 0.5\n",
    "\n",
    "min_dist = 5\n",
    "max_dist = 10\n",
    "min_child_count = 3\n",
    "max_child_count = 6\n",
    "angle_noise = 0.01\n",
    "\n",
    "# points = pg.generate_cell_centers(np.array([[0, limits[0]], [0, limit[1]]]), min_dist, max_dist, point_count)[:, :-1]\n",
    "points = pg.generate_cell_centers(np.array([[0, limits[0]], [0, limits[1]]]), min_dist, max_dist, min_child_count, max_child_count, angle_noise)[:, :-1]\n",
    "print(f'generated {points.shape[0]} points')"
   ]
  },
  {
   "cell_type": "markdown",
   "metadata": {
    "tags": []
   },
   "source": [
    "## Generating the starting points"
   ]
  },
  {
   "cell_type": "code",
   "execution_count": null,
   "metadata": {
    "tags": []
   },
   "outputs": [],
   "source": [
    "%matplotlib qt"
   ]
  },
  {
   "cell_type": "code",
   "execution_count": null,
   "metadata": {
    "tags": []
   },
   "outputs": [],
   "source": [
    "# points = pg.generate_cell_centers(np.array([[0, limits[0]], [0, limits[1]]]), min_dist, max_dist, min_child_count, max_child_count, angle_noise)[:, :-1]\n",
    "points = pg.generate_cell_centers(np.array([[0, limits[0]], [0, limits[1]]]), 3, 30, 1, 2, angle_noise)[:, :-1]\n",
    "print(f'generated {points.shape[0]} points')\n",
    "point_count = points.shape[0]\n",
    "\n",
    "points = points.astype(int)\n",
    "vis = np.zeros(limits[:2])\n",
    "vis[points[:, 0], points[:, 1]] = 1\n",
    "\n",
    "fig, ax = plt.subplots()\n",
    "ax.imshow(vis, cmap=plt.cm.gray)\n",
    "ax.set_title('Starting points')\n",
    "\n",
    "# ax.set_axis_off()\n",
    "plt.show()"
   ]
  },
  {
   "cell_type": "markdown",
   "metadata": {},
   "source": [
    "## Perform watershed"
   ]
  },
  {
   "cell_type": "code",
   "execution_count": null,
   "metadata": {
    "tags": []
   },
   "outputs": [],
   "source": [
    "noise_intensity = 1\n",
    "\n",
    "black_centers = points.astype(int)\n",
    "image = np.ones(limits[:2], dtype=bool)\n",
    "image[black_centers[:, 0], black_centers[:, 1]] = 0\n",
    "\n",
    "# Now we want to separate the two objects in image\n",
    "# Generate the markers as local maxima of the distance to the background\n",
    "distance = ndi.distance_transform_edt(image)\n",
    "noise = perlin.generate_perlin_noise_2d(limits[:2], (np.array(limits) * noise_resolution).astype(int))\n",
    "distance += noise * noise_intensity\n",
    "\n",
    "coords = peak_local_max(-distance, min_distance=min_dist, exclude_border=False)\n",
    "mask = np.zeros(distance.shape, dtype=bool)\n",
    "mask[tuple(coords.T)] = True\n",
    "markers, _ = ndi.label(mask)\n",
    "labels = watershed(distance, markers, watershed_line=True)\n",
    "\n",
    "# fig, ax = plt.subplots()\n",
    "# ax.imshow(labels, cmap=plt.cm.nipy_spectral)\n",
    "# ax.set_title('Starting points')\n",
    "# plt.show()\n",
    "\n",
    "fig, axes = plt.subplots(ncols=4, figsize=(9, 4), sharex=True, sharey=True)\n",
    "ax = axes.ravel()\n",
    "\n",
    "ax[0].imshow(image, cmap=plt.cm.gray)\n",
    "ax[0].set_title('Starting points')\n",
    "ax[1].imshow(distance, cmap=plt.cm.gray)\n",
    "ax[1].set_title('Distances with noise')\n",
    "ax[2].imshow(mask, cmap=plt.cm.gray)\n",
    "ax[2].set_title('Basin starts')\n",
    "ax[3].imshow(labels, cmap=plt.cm.nipy_spectral)\n",
    "ax[3].set_title('Separated objects')\n",
    "\n",
    "for a in ax:\n",
    "    a.set_axis_off()\n",
    "\n",
    "fig.tight_layout()\n",
    "plt.show()"
   ]
  },
  {
   "cell_type": "markdown",
   "metadata": {
    "tags": []
   },
   "source": [
    "# Watershed for 3d data"
   ]
  },
  {
   "cell_type": "code",
   "execution_count": null,
   "metadata": {
    "tags": []
   },
   "outputs": [],
   "source": [
    "limits = (200, 200, 100)\n",
    "noise_resolution_factor = 20\n",
    "noise_resolution = (np.array(limits) / noise_resolution_factor).astype(int)\n",
    "noise_intensity = 10\n",
    "assert ((limits % noise_resolution).astype(int) == 0).all()\n",
    "\n",
    "membrane_threshold = 2"
   ]
  },
  {
   "cell_type": "code",
   "execution_count": null,
   "metadata": {
    "tags": []
   },
   "outputs": [],
   "source": [
    "np.random.seed(0)\n",
    "points = pg.generate_3d_centers(\n",
    "    limits=np.array([[0, limits[0]], [0, limits[1]], [0, limits[2]]]),\n",
    "    min_dist=25,\n",
    "    max_dist=60,\n",
    "    min_child_count=3,\n",
    "    max_child_count=5,\n",
    "    angle_noise=angle_noise,\n",
    "    plane_distance=50,\n",
    "    max_offset_from_plane=20,\n",
    "    first_plane_offset=20,\n",
    "    max_center_offset=[10, 10],\n",
    ")\n",
    "print(f'generated {points.shape[0]} many points')"
   ]
  },
  {
   "cell_type": "code",
   "execution_count": null,
   "metadata": {
    "tags": []
   },
   "outputs": [],
   "source": [
    "black_centers = points.astype(int)\n",
    "image = np.ones(limits, dtype=bool)\n",
    "image[black_centers[:, 0], black_centers[:, 1], black_centers[:, 2]] = 0\n",
    "distance = ndi.distance_transform_edt(image)"
   ]
  },
  {
   "cell_type": "code",
   "execution_count": null,
   "metadata": {
    "tags": []
   },
   "outputs": [],
   "source": [
    "noise = perlin.generate_perlin_noise_3d(limits, noise_resolution) * noise_intensity\n",
    "noisy_distance = distance + noise"
   ]
  },
  {
   "cell_type": "code",
   "execution_count": null,
   "metadata": {
    "tags": []
   },
   "outputs": [],
   "source": [
    "coords = peak_local_max(-noisy_distance, min_distance=min_dist, exclude_border=False)\n",
    "mask = np.zeros(noisy_distance.shape, dtype=bool)\n",
    "mask[tuple(coords.T)] = True\n",
    "markers, _ = ndi.label(mask)\n",
    "labels = watershed(noisy_distance, markers, watershed_line=False)\n",
    "labels_with_lines = watershed(noisy_distance, markers, watershed_line=True)\n",
    "cell_image = np.array([0, 255]).astype(np.uint8)[(labels_with_lines != 0).astype(int)]"
   ]
  },
  {
   "cell_type": "code",
   "execution_count": null,
   "metadata": {
    "tags": []
   },
   "outputs": [],
   "source": [
    "# make membrane thicker\n",
    "post_distance = ndi.distance_transform_edt(cell_image)\n",
    "post_distance = skfilters.gaussian(post_distance, sigma=2)\n",
    "\n",
    "cell_image[post_distance <= membrane_threshold] = 0"
   ]
  },
  {
   "cell_type": "code",
   "execution_count": null,
   "metadata": {
    "tags": []
   },
   "outputs": [],
   "source": [
    "fig, axes = plt.subplots(ncols=3, figsize=(19, 10), sharex=True, sharey=True)\n",
    "ax = axes.ravel()\n",
    "\n",
    "slice_dim = 0\n",
    "slice_axis = 2\n",
    "mask_image = cell_image\n",
    "\n",
    "max_slice_dim = labels.shape[slice_axis] - 1\n",
    "axis_string = ['x', 'y', 'z'][slice_axis]\n",
    "\n",
    "def process_key(event):\n",
    "    global slice_dim\n",
    "    if event.key == 'j':\n",
    "        slice_dim = max(0, slice_dim - 1)\n",
    "        ax[0].images[0].set_array(noise[index()])\n",
    "        ax[1].images[0].set_array(mask_image[index()])\n",
    "        ax[2].images[0].set_array(labels[index()])\n",
    "    elif event.key == 'k':\n",
    "        slice_dim = min(max_slice_dim, slice_dim + 1)\n",
    "        ax[0].images[0].set_array(noise[index()])\n",
    "        ax[1].images[0].set_array(mask_image[index()])\n",
    "        ax[2].images[0].set_array(labels[index()])\n",
    "    ax[2].set_title(f'Label ({axis_string} = {slice_dim})')\n",
    "    fig.canvas.draw()\n",
    "\n",
    "def index():\n",
    "    i = [slice(None)] * 3\n",
    "    i[slice_axis] = slice_dim\n",
    "    return tuple(i)\n",
    "\n",
    "ax[0].imshow(noise[index()], cmap=plt.cm.gray)\n",
    "ax[0].set_title('noise')\n",
    "ax[1].imshow(mask_image[index()], cmap=plt.cm.gray)\n",
    "ax[1].set_title('Separated objects')\n",
    "ax[2].imshow(labels[index()], cmap=plt.cm.nipy_spectral)\n",
    "ax[2].set_title(f'Label ({axis_string} = {slice_dim})')\n",
    "\n",
    "for a in ax:\n",
    "    a.set_axis_off()\n",
    "\n",
    "fig.canvas.mpl_connect('key_press_event', process_key)\n",
    "fig.tight_layout()\n",
    "plt.show()"
   ]
  },
  {
   "cell_type": "markdown",
   "metadata": {},
   "source": [
    "#### Plotting the different parts"
   ]
  },
  {
   "cell_type": "code",
   "execution_count": null,
   "metadata": {
    "tags": []
   },
   "outputs": [],
   "source": [
    "# the points\n",
    "pcd_points = o3d.utility.Vector3dVector(points)\n",
    "pcd = o3d.geometry.PointCloud(pcd_points)\n",
    "pcd.paint_uniform_color([0, 0, 0])\n",
    "o3d.visualization.draw_geometries([pcd])"
   ]
  },
  {
   "cell_type": "code",
   "execution_count": null,
   "metadata": {
    "tags": []
   },
   "outputs": [],
   "source": [
    "# the noise\n",
    "noise = perlin.generate_perlin_noise_3d((100, 100, 5),noise_resolution)\n",
    "plt.imshow(noise[:, :, 0], cmap=plt.cm.gray)"
   ]
  }
 ],
 "metadata": {
  "kernelspec": {
   "display_name": "Python 3 (ipykernel)",
   "language": "python",
   "name": "python3"
  },
  "language_info": {
   "codemirror_mode": {
    "name": "ipython",
    "version": 3
   },
   "file_extension": ".py",
   "mimetype": "text/x-python",
   "name": "python",
   "nbconvert_exporter": "python",
   "pygments_lexer": "ipython3",
   "version": "3.10.7"
  },
  "vscode": {
   "interpreter": {
    "hash": "b8b502a267dd35526e92915efc175fad2a78228be2d62fe569865bb353f3b303"
   }
  }
 },
 "nbformat": 4,
 "nbformat_minor": 4
}
