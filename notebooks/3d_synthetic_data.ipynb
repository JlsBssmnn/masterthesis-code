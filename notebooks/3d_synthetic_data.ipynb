{
 "cells": [
  {
   "cell_type": "markdown",
   "metadata": {},
   "source": [
    "# *This notebook is work in progress and currently does not work*"
   ]
  },
  {
   "cell_type": "code",
   "execution_count": null,
   "metadata": {
    "tags": []
   },
   "outputs": [],
   "source": [
    "import numpy as np\n",
    "import open3d as o3d\n",
    "import tifffile as tf\n",
    "from scipy.spatial import Voronoi, Delaunay\n",
    "import pyvoro\n",
    "from itertools import combinations\n",
    "from collections import defaultdict\n",
    "import trimesh\n",
    "import matplotlib.pyplot as plt\n",
    "%matplotlib qt\n",
    "\n",
    "import os \n",
    "import bpy\n",
    "import sys\n",
    "from functools import reduce\n",
    "import importlib\n",
    "lib_dir = os.path.dirname(os.path.realpath('.'))\n",
    "print(lib_dir)\n",
    "if lib_dir not in sys.path:\n",
    "  sys.path.append(lib_dir)"
   ]
  },
  {
   "cell_type": "code",
   "execution_count": null,
   "metadata": {
    "tags": []
   },
   "outputs": [],
   "source": [
    "import image_synthesis.utils as utils\n",
    "import image_synthesis.rendering.triangulate as t\n",
    "def reload():\n",
    "  importlib.reload(utils)\n",
    "  importlib.reload(t)\n",
    "reload()"
   ]
  },
  {
   "cell_type": "code",
   "execution_count": null,
   "metadata": {
    "tags": []
   },
   "outputs": [],
   "source": [
    "width = 250\n",
    "height = 250\n",
    "depth = 250\n",
    "cellCount = 10"
   ]
  },
  {
   "cell_type": "markdown",
   "metadata": {},
   "source": [
    "## Use pyvoro to generate a 3d voronoi decomposition"
   ]
  },
  {
   "cell_type": "code",
   "execution_count": null,
   "metadata": {
    "tags": []
   },
   "outputs": [],
   "source": [
    "# points = np.array([[1.0, 2.0, 3.0], [4.0, 5.5, 6.0]])\n",
    "points = np.array([[1.0, 2.0, 3.0], [4.0, 5.5, 6.0], [1, 5, 2], [9, 8, 7], [2, 9.5, 3]])\n",
    "limits = np.array([[0.0, 10.0], [0.0, 10.0], [0.0, 10.0]])\n",
    "\n",
    "v = pyvoro.compute_voronoi(\n",
    "  points, # point positions\n",
    "  limits, # limits\n",
    "  2.0, # block size\n",
    "  radii=[1.3, 1.4] # particle radii -- optional, and keyword-compatible arg.\n",
    ")\n",
    "v0_vertices = np.array(v[0]['vertices'])\n",
    "v0_faces = [face['vertices'] for face in v[0]['faces']]\n",
    "v"
   ]
  },
  {
   "cell_type": "code",
   "execution_count": null,
   "metadata": {
    "tags": []
   },
   "outputs": [],
   "source": [
    "def plot_points(points):\n",
    "  ax = plt.figure().add_subplot(projection='3d')\n",
    "  ax.scatter(points[:, 0], points[:, 1], points[:, 2], c='r')\n",
    "  for i, point in enumerate(points):\n",
    "    ax.text(point[0], point[1], point[2], str(i))\n",
    "  plt.show()"
   ]
  },
  {
   "cell_type": "code",
   "execution_count": null,
   "metadata": {
    "tags": []
   },
   "outputs": [],
   "source": [
    "plot_points(np.array(v[0]['vertices']))"
   ]
  },
  {
   "cell_type": "code",
   "execution_count": null,
   "metadata": {
    "tags": []
   },
   "outputs": [],
   "source": [
    "def get_triangle_indices(points):\n",
    "  assert points.shape[0] >= 3\n",
    "\n",
    "  center = points.mean(axis=0)\n",
    "  reference_vector = points[0] - center\n",
    "\n",
    "  angles = [[utils.vector_angle(reference_vector, p - center), i] for i, p in enumerate(points)]\n",
    "  angles.sort(key=lambda element: element[0])\n",
    "\n",
    "  point_order = np.array(angles)[:, 1].flatten().astype(int)\n",
    "  triangles = np.lib.stride_tricks.sliding_window_view(point_order, 3)\n",
    "\n",
    "  if points.shape[0] > 3:\n",
    "    triangles = np.append(triangles, [[point_order[-2], point_order[-1], point_order[0]]], axis=0)\n",
    "\n",
    "  return triangles"
   ]
  },
  {
   "cell_type": "markdown",
   "metadata": {},
   "source": [
    "### Plotting a polyhedral with open3d"
   ]
  },
  {
   "cell_type": "code",
   "execution_count": null,
   "metadata": {
    "tags": []
   },
   "outputs": [],
   "source": [
    "meshes = []\n",
    "for face_vertices in v[0]['faces']:\n",
    "  points = np.array(v[0]['vertices'])[face_vertices['vertices']]\n",
    "  triangles = get_triangle_indices(points).copy()\n",
    "  meshes.append(o3d.geometry.TriangleMesh(o3d.utility.Vector3dVector(points), o3d.utility.Vector3iVector(triangles)))\n",
    "\n",
    "o3d.visualization.draw_geometries(meshes, mesh_show_back_face=True)"
   ]
  },
  {
   "cell_type": "code",
   "execution_count": null,
   "metadata": {
    "tags": []
   },
   "outputs": [],
   "source": [
    "voxel_grids = [o3d.geometry.VoxelGrid.create_from_triangle_mesh(mesh, voxel_size=0.05) for mesh in meshes]\n",
    "o3d.visualization.draw_geometries(voxel_grids)"
   ]
  },
  {
   "cell_type": "markdown",
   "metadata": {},
   "source": [
    "### Plotting a polyhedral with trimash"
   ]
  },
  {
   "cell_type": "code",
   "execution_count": null,
   "metadata": {
    "tags": []
   },
   "outputs": [],
   "source": [
    "points = np.empty((0, 3))\n",
    "triangles = np.empty((0, 3))\n",
    "\n",
    "for face_vertices in v[0]['faces']:\n",
    "  surface_points = np.array(v[0]['vertices'])[face_vertices['vertices']]\n",
    "  surface_triangles = get_triangle_indices(surface_points)\n",
    "  \n",
    "  surface_triangles = surface_triangles + points.shape[0]\n",
    "  points = np.append(points, surface_points, axis=0)\n",
    "  triangles = np.append(triangles, surface_triangles, axis=0)\n",
    "\n",
    "mesh = trimesh.Trimesh(points, triangles)\n",
    "mesh.show()"
   ]
  },
  {
   "cell_type": "code",
   "execution_count": null,
   "metadata": {
    "tags": []
   },
   "outputs": [],
   "source": [
    "points = np.empty((0, 3))\n",
    "triangles = np.empty((0, 3))\n",
    "\n",
    "for tetra in v:\n",
    "  shape_points = np.array(tetra['vertices'])\n",
    "  faces = [x['vertices'] for x in tetra['faces']]\n",
    "  shape_triangles = t.triangulate_shape(shape_points, faces)\n",
    "  triangles = np.append(triangles, shape_triangles + len(points), axis=0)\n",
    "  points = np.append(points, shape_points, axis=0)\n",
    "\n",
    "mesh = trimesh.Trimesh(points, triangles)\n",
    "\n",
    "mesh.show()"
   ]
  },
  {
   "cell_type": "markdown",
   "metadata": {},
   "source": [
    "## Use blender for scaling a polyhedron"
   ]
  },
  {
   "cell_type": "code",
   "execution_count": null,
   "metadata": {
    "tags": []
   },
   "outputs": [],
   "source": [
    "def get_scaled_shape_points(shape_idx: int, scale: float):\n",
    "    in_vertices = v[shape_idx]['vertices']\n",
    "    in_faces = [x['vertices'] for x in v[shape_idx]['faces']]\n",
    "\n",
    "    mesh = bpy.data.meshes.new('poly')\n",
    "    obj = bpy.data.objects.new('poly', mesh)\n",
    "\n",
    "    col = bpy.data.collections.get('Collection')\n",
    "    col.objects.link(obj)\n",
    "    bpy.context.view_layer.objects.active = obj\n",
    "    mesh.from_pydata(in_vertices, [], in_faces)\n",
    "\n",
    "    bpy.ops.object.select_all(action='SELECT')\n",
    "\n",
    "    bpy.ops.object.origin_set(type='ORIGIN_CENTER_OF_VOLUME', center='MEDIAN')\n",
    "    obj.scale = (scale,) * 3\n",
    "    bpy.ops.object.transform_apply(scale=True)\n",
    "\n",
    "    bpy.ops.object.select_all(action='DESELECT')\n",
    "\n",
    "    shape_vertices = np.empty((len(obj.data.vertices), 3))\n",
    "    for i, vertex in enumerate(obj.data.vertices):\n",
    "        shape_vertices[i] = [vertex.co[0], vertex.co[1], vertex.co[2]]\n",
    "    return shape_vertices"
   ]
  },
  {
   "cell_type": "code",
   "execution_count": null,
   "metadata": {
    "tags": []
   },
   "outputs": [],
   "source": [
    "points = np.empty((0, 3))\n",
    "triangles = np.empty((0, 3))\n",
    "\n",
    "for i, tetra in enumerate(v):\n",
    "  shape_points = get_scaled_shape_points(i, 0.9)\n",
    "  faces = [x['vertices'] for x in tetra['faces']]\n",
    "  shape_triangles = t.triangulate_shape(shape_points, faces)\n",
    "  triangles = np.append(triangles, shape_triangles + len(points), axis=0)\n",
    "  points = np.append(points, shape_points, axis=0)\n",
    "\n",
    "mesh = trimesh.Trimesh(points, triangles)\n",
    "\n",
    "mesh.show()"
   ]
  },
  {
   "cell_type": "code",
   "execution_count": null,
   "metadata": {},
   "outputs": [],
   "source": [
    "voxel_grid = mesh.voxelized(0.05)\n",
    "voxel_grid.fill()\n",
    "voxels = np.array(voxel_grid.points) / 0.05"
   ]
  },
  {
   "cell_type": "code",
   "execution_count": null,
   "metadata": {},
   "outputs": [],
   "source": [
    "voxels.min(axis=0)"
   ]
  },
  {
   "cell_type": "code",
   "execution_count": null,
   "metadata": {},
   "outputs": [],
   "source": [
    "save_current_mesh()"
   ]
  },
  {
   "cell_type": "markdown",
   "metadata": {},
   "source": [
    "### Is the mesh watertight?"
   ]
  },
  {
   "cell_type": "code",
   "execution_count": null,
   "metadata": {},
   "outputs": [],
   "source": [
    "save()"
   ]
  },
  {
   "cell_type": "code",
   "execution_count": null,
   "metadata": {},
   "outputs": [],
   "source": [
    "triangulate(v0_vertices[v0_faces[2]])"
   ]
  },
  {
   "cell_type": "code",
   "execution_count": null,
   "metadata": {},
   "outputs": [],
   "source": [
    "def triangulate(points):\n",
    "  tess = Delaunay(points)\n",
    "  triangles = np.empty((0, 3), dtype=int)\n",
    "  for tetra in tess.simplices:\n",
    "    triangles = np.append(triangles, np.array(list((combinations(tetra, 3)))), axis=0)"
   ]
  },
  {
   "cell_type": "code",
   "execution_count": null,
   "metadata": {},
   "outputs": [],
   "source": [
    "mesh = trimesh.Trimesh(points, triangles)\n",
    "mesh.is_watertight"
   ]
  },
  {
   "cell_type": "code",
   "execution_count": null,
   "metadata": {},
   "outputs": [],
   "source": [
    "pair_count = defaultdict(int)\n",
    "def get_key(i, j):\n",
    "  if f'{i},{j}' in pair_count:\n",
    "    return f'{i},{j}'\n",
    "  else:\n",
    "    return f'{j},{i}'\n",
    "\n",
    "for triangle in triangles:\n",
    "  for i in range(3):\n",
    "    key = get_key(triangle[i], triangle[(i+1) % 3])\n",
    "    pair_count[key] += 1"
   ]
  },
  {
   "cell_type": "code",
   "execution_count": null,
   "metadata": {},
   "outputs": [],
   "source": [
    "def save_current_mesh():\n",
    "  voxel_grid = mesh.voxelized(0.05)\n",
    "  voxel_grid.fill()\n",
    "  voxels = np.array(voxel_grid.points) / 0.05\n",
    "  save_voxel_grid.save_points_array('../../data/trimesh_polyhedral2.tiff', voxels)"
   ]
  },
  {
   "cell_type": "code",
   "execution_count": null,
   "metadata": {},
   "outputs": [],
   "source": [
    "from image_synthesis.rendering import save_voxel_grid\n",
    "importlib.reload(save_voxel_grid)"
   ]
  },
  {
   "cell_type": "markdown",
   "metadata": {},
   "source": [
    "## Shrinking a polyhedron"
   ]
  },
  {
   "cell_type": "code",
   "execution_count": null,
   "metadata": {},
   "outputs": [],
   "source": [
    "def get_shrinkable_faces(shape_idx: int):\n",
    "  shrinkable_faces = []\n",
    "  faces = [face['vertices'] for face in v[shape_idx]['faces']]\n",
    "\n",
    "  for i, face in enumerate(faces):\n",
    "    for j in range(3):\n",
    "      if np.unique(v0_vertices[face][:, j]).shape[0] == 1:\n",
    "        break\n",
    "    else:\n",
    "      shrinkable_faces.append(i)\n",
    "\n",
    "  points_to_move = set()\n",
    "  for shrinkable_face in shrinkable_faces:\n",
    "    points_to_move = points_to_move.union(v0_faces[shrinkable_face])\n",
    "\n",
    "  return shrinkable_faces"
   ]
  },
  {
   "cell_type": "code",
   "execution_count": null,
   "metadata": {},
   "outputs": [],
   "source": [
    "def get_face_normals(shape_idx: int):\n",
    "  faces = [face['vertices'] for face in v[shape_idx]['faces']]\n",
    "  tri_faces = np.array([x[:3] for x in faces])\n",
    "\n",
    "  def get_normal(points):\n",
    "    return np.cross(points[0, :] - points[1, :], points[0, :] - points[2, :])\n",
    "\n",
    "  return np.array(list(map(get_normal, v0_vertices[tri_faces])))"
   ]
  },
  {
   "cell_type": "code",
   "execution_count": null,
   "metadata": {},
   "outputs": [],
   "source": [
    "def move_point(point, distance, shrinkable_faces, normals):\n",
    "  # calculate the vector by which a point is moved\n",
    "  faces_of_point = [i for i, face in enumerate(v0_faces) if point in face]\n",
    "  shrinkable_faces_of_point = [i for i in faces_of_point if i in shrinkable_faces]\n",
    "\n",
    "  if not shrinkable_faces_of_point:\n",
    "    shrink_vector = np.array([0, 0, 0])\n",
    "  else:\n",
    "    shrink_vector = normals[shrinkable_faces_of_point].mean(axis=0)\n",
    "    shrink_vector /= np.linalg.norm(shrink_vector)\n",
    "\n",
    "  print('shrink vector:', shrink_vector)\n",
    "\n",
    "  # move a point by it's shrink vector\n",
    "  vertex = v0_vertices[point]\n",
    "  moved_vertex = vertex + shrink_vector * distance\n",
    "\n",
    "  # if the point is outside the limits, bring it back\n",
    "  # first find coordinates of point that lie outside the boundaries\n",
    "  moved_with_limits = np.concatenate((moved_vertex.reshape(-1, 1), limits[:, :1], limits[:, 1:2]), axis=1)\n",
    "  outside_of_limits = np.logical_or(moved_with_limits[:, 0] < moved_with_limits[:, 1], moved_with_limits[:, 0] > moved_with_limits[:, 2])\n",
    "\n",
    "  if not outside_of_limits.any():\n",
    "    return moved_vertex\n",
    "\n",
    "  # find out which boundary face is hit first by moving the point\n",
    "  collision_faces = np.where(shrink_vector < 0, limits[:, 0], np.where(shrink_vector > 0, limits[:, 1], np.full(3, np.NaN)))\n",
    "  dist_to_faces = (collision_faces - vertex) / shrink_vector\n",
    "\n",
    "  # move the point to the first boundary hit\n",
    "  factor_to_closest_face = np.min(dist_to_faces[~np.isnan(dist_to_faces)])\n",
    "  vertex += shrink_vector * factor_to_closest_face\n",
    "\n",
    "  # move the point by the projected normal s.t. it's on the plane\n",
    "  proj_shrink_vector = np.where(outside_of_limits, np.zeros(3), shrink_vector)\n",
    "  new_plane_d = np.dot(moved_vertex, shrink_vector)\n",
    "  factor_to_plane = (new_plane_d - np.dot(shrink_vector, vertex)) / np.dot(proj_shrink_vector, shrink_vector)\n",
    "  vertex += proj_shrink_vector * factor_to_plane\n",
    "\n",
    "  return vertex"
   ]
  },
  {
   "cell_type": "code",
   "execution_count": null,
   "metadata": {},
   "outputs": [],
   "source": [
    "vertices = np.array(v[0]['vertices'])\n",
    "shrinkable_faces = get_shrinkable_faces(0)\n",
    "normals = get_face_normals(0)\n",
    "faces = np.array([2, 3, 5, 7, 6])\n",
    "\n",
    "points = np.array([move_point(i, 0.1, shrinkable_faces, normals) for i in faces])\n",
    "print(vertices[faces].__repr__())\n",
    "points"
   ]
  },
  {
   "cell_type": "code",
   "execution_count": null,
   "metadata": {},
   "outputs": [],
   "source": [
    "def shrink_shape(shape_idx: int, distance: float):\n",
    "  vertices = np.array(v[shape_idx]['vertices'])\n",
    "  shrinkable_faces = get_shrinkable_faces(shape_idx)\n",
    "  normals = get_face_normals(shape_idx)\n",
    "\n",
    "  points = np.array([move_point(i, distance, shrinkable_faces, normals) for i in range(len(vertices))])\n",
    "  triangles = t.triangulate_shape(points, v0_faces)\n",
    "  return points, triangles"
   ]
  },
  {
   "cell_type": "markdown",
   "metadata": {},
   "source": [
    "### save it to an image"
   ]
  },
  {
   "cell_type": "code",
   "execution_count": null,
   "metadata": {},
   "outputs": [],
   "source": [
    "points = np.empty((0, 3))\n",
    "triangles = np.empty((0, 3))\n",
    "\n",
    "for i in range(len(v)):\n",
    "  shape_points, shape_triangles = shrink_shape(i, 0.1)\n",
    "  shape_triangles += points.shape[0]\n",
    "  points = np.append(points, shape_points, axis=1)\n",
    "  triangles = np.append(triangles, shape_triangles, axis=1)\n",
    "\n",
    "mesh = trimesh.Trimesh(points, triangles)\n",
    "mesh.show()"
   ]
  },
  {
   "cell_type": "code",
   "execution_count": null,
   "metadata": {},
   "outputs": [],
   "source": [
    "save_current_mesh()"
   ]
  }
 ],
 "metadata": {
  "kernelspec": {
   "display_name": "Python 3 (ipykernel)",
   "language": "python",
   "name": "python3"
  },
  "language_info": {
   "codemirror_mode": {
    "name": "ipython",
    "version": 3
   },
   "file_extension": ".py",
   "mimetype": "text/x-python",
   "name": "python",
   "nbconvert_exporter": "python",
   "pygments_lexer": "ipython3",
   "version": "3.10.7"
  },
  "vscode": {
   "interpreter": {
    "hash": "b8b502a267dd35526e92915efc175fad2a78228be2d62fe569865bb353f3b303"
   }
  }
 },
 "nbformat": 4,
 "nbformat_minor": 4
}
