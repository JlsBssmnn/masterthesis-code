{
 "cells": [
  {
   "cell_type": "code",
   "execution_count": null,
   "id": "7ff4d6b8-ab56-4436-9768-d797d5549a77",
   "metadata": {
    "tags": []
   },
   "outputs": [],
   "source": [
    "import h5py\n",
    "import numpy as np\n",
    "import neuroglancer"
   ]
  },
  {
   "cell_type": "code",
   "execution_count": null,
   "id": "75f017bc-d765-4845-b9ac-dd50b6362674",
   "metadata": {
    "tags": []
   },
   "outputs": [],
   "source": [
    "f = h5py.File('../../data/epithelial_sheet/image.h5', 'r')"
   ]
  },
  {
   "cell_type": "code",
   "execution_count": null,
   "id": "da03b6e2-48b6-4841-8bb1-c802748adaa0",
   "metadata": {
    "tags": []
   },
   "outputs": [],
   "source": [
    "data = f['image']"
   ]
  },
  {
   "cell_type": "code",
   "execution_count": null,
   "id": "c171352f-6306-446c-a837-360229b1552b",
   "metadata": {
    "tags": []
   },
   "outputs": [],
   "source": [
    "area = data[11:170, 350:800, 800:1300]"
   ]
  },
  {
   "cell_type": "code",
   "execution_count": null,
   "id": "d73f1c72-3f7b-4e80-be12-be5196a83c50",
   "metadata": {
    "tags": []
   },
   "outputs": [],
   "source": [
    "viewer = neuroglancer.Viewer()\n",
    "with viewer.txn() as s:\n",
    "  a = area\n",
    "\n",
    "  dimensions = neuroglancer.CoordinateSpace(\n",
    "      names=['x', 'y', 'z'],\n",
    "      units=['nm', 'nm', 'nm'],\n",
    "      scales=[10, 10, 10],\n",
    "      coordinate_arrays=[\n",
    "          None,\n",
    "          None,\n",
    "          None,\n",
    "      ])\n",
    "\n",
    "  s.dimensions = dimensions\n",
    "  s.layers.append(\n",
    "      name='a',\n",
    "      layer=neuroglancer.LocalVolume(\n",
    "          data=a,\n",
    "          dimensions=neuroglancer.CoordinateSpace(\n",
    "              names=['x', 'y', 'z'],\n",
    "              units=['nm', 'nm', 'nm'],\n",
    "              scales=[10, 10, 10],\n",
    "          ),\n",
    "          voxel_offset=(20, 20, 20),\n",
    "      ))\n",
    "print(viewer)"
   ]
  }
 ],
 "metadata": {
  "kernelspec": {
   "display_name": "Python 3 (ipykernel)",
   "language": "python",
   "name": "python3"
  },
  "language_info": {
   "codemirror_mode": {
    "name": "ipython",
    "version": 3
   },
   "file_extension": ".py",
   "mimetype": "text/x-python",
   "name": "python",
   "nbconvert_exporter": "python",
   "pygments_lexer": "ipython3",
   "version": "3.10.7"
  }
 },
 "nbformat": 4,
 "nbformat_minor": 5
}
